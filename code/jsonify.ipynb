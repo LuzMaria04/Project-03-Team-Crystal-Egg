{
 "cells": [
  {
   "cell_type": "markdown",
   "id": "638bfbf6",
   "metadata": {},
   "source": [
    "Extract and Jsonify Data from MongoDB"
   ]
  },
  {
   "cell_type": "code",
   "execution_count": 1,
   "id": "19eb5532",
   "metadata": {},
   "outputs": [],
   "source": [
    "# Dependencies\n",
    "from bson import ObjectId\n",
    "import json\n",
    "from pymongo import MongoClient"
   ]
  },
  {
   "cell_type": "code",
   "execution_count": 2,
   "id": "5f0fab38",
   "metadata": {},
   "outputs": [],
   "source": [
    "# Connect to MongoDB\n",
    "client = MongoClient('mongodb://localhost:27017')\n",
    "db = client['energyAirDB']\n",
    "collection = db['energyAir']"
   ]
  },
  {
   "cell_type": "code",
   "execution_count": 3,
   "id": "ae3491dc",
   "metadata": {},
   "outputs": [],
   "source": [
    "# Retrieve data from MongoDB\n",
    "data = collection.find()"
   ]
  },
  {
   "cell_type": "code",
   "execution_count": 4,
   "id": "d969b902",
   "metadata": {},
   "outputs": [],
   "source": [
    "# Custom JSON encoder\n",
    "class MongoEncoder(json.JSONEncoder):\n",
    "    def default(self, obj):\n",
    "        if isinstance(obj, ObjectId):\n",
    "            return str(obj)\n",
    "        return super().default(obj)"
   ]
  },
  {
   "cell_type": "code",
   "execution_count": 5,
   "id": "4cd072cb",
   "metadata": {},
   "outputs": [],
   "source": [
    "# Convert the Cursor object to a list\n",
    "data = list(data)"
   ]
  },
  {
   "cell_type": "code",
   "execution_count": 6,
   "id": "6fd248c1",
   "metadata": {},
   "outputs": [],
   "source": [
    "# Convert data to JSON\n",
    "json_data = json.dumps(data, cls=MongoEncoder)"
   ]
  },
  {
   "cell_type": "code",
   "execution_count": 7,
   "id": "df05461a",
   "metadata": {},
   "outputs": [],
   "source": [
    "# Convert the _id field to integers starting from 1\n",
    "for i, item in enumerate(data):\n",
    "    item['_id'] = i + 1"
   ]
  },
  {
   "cell_type": "code",
   "execution_count": 8,
   "id": "179bd15d",
   "metadata": {},
   "outputs": [],
   "source": [
    "# Convert non-serializable objects to a JSON serializable format\n",
    "def convert_to_json(obj):\n",
    "    if isinstance(obj, ObjectId):\n",
    "        return str(obj)\n",
    "    raise TypeError(f\"Object of type {obj.__class__.__name__} is not JSON serializable\")"
   ]
  },
  {
   "cell_type": "code",
   "execution_count": 9,
   "id": "162ec385",
   "metadata": {},
   "outputs": [],
   "source": [
    "# Save JSON data to a file\n",
    "with open('output.json', 'w') as file:\n",
    "    json.dump(data, file, indent=2, default=convert_to_json)"
   ]
  }
 ],
 "metadata": {
  "kernelspec": {
   "display_name": "Python 3 (ipykernel)",
   "language": "python",
   "name": "python3"
  },
  "language_info": {
   "codemirror_mode": {
    "name": "ipython",
    "version": 3
   },
   "file_extension": ".py",
   "mimetype": "text/x-python",
   "name": "python",
   "nbconvert_exporter": "python",
   "pygments_lexer": "ipython3",
   "version": "3.11.5"
  }
 },
 "nbformat": 4,
 "nbformat_minor": 5
}
